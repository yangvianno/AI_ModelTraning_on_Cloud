{
 "cells": [
  {
   "cell_type": "code",
   "execution_count": 14,
   "metadata": {},
   "outputs": [],
   "source": [
    "import os\n",
    "import torch\n",
    "import torch.nn as nn\n",
    "import torchvision.transforms as transforms\n",
    "import torchvision.datasets as datasets\n",
    "import matplotlib.pyplot as plt\n",
    "import numpy as np\n",
    "import torchsummary\n",
    "\n",
    "from torch.utils.data import DataLoader\n",
    "from torch.amp import autocast, GradScaler"
   ]
  },
  {
   "cell_type": "code",
   "execution_count": 15,
   "metadata": {},
   "outputs": [],
   "source": [
    "class DeepNN(nn.Module):\n",
    "    def __init__(self):\n",
    "        super(DeepNN, self).__init__()\n",
    "        self.conv1 = nn.Conv2d(in_channels=1, out_channels=32, kernel_size=3, stride=1, padding=1)\n",
    "        self.conv2 = nn.Conv2d(in_channels=32, out_channels=64, kernel_size=3, stride=1, padding=1)\n",
    "        self.pool = nn.MaxPool2d(kernel_size=2, stride=2, padding=0)\n",
    "        self.fc1 = nn.Linear(in_features=64*7*7, out_features=128)\n",
    "        self.fc2 = nn.Linear(in_features=128, out_features=10)\n",
    "        self.relu = nn.ReLU()\n",
    "\n",
    "    def forward(self, x):\n",
    "        x = self.pool(self.relu(self.conv1(x)))\n",
    "        x = self.pool(self.relu(self.conv2(x)))\n",
    "        x = x.view(x.size(0), -1)\n",
    "        x = self.relu(self.fc1(x))\n",
    "        x = self.fc2(x)\n",
    "        return x"
   ]
  },
  {
   "cell_type": "code",
   "execution_count": 16,
   "metadata": {},
   "outputs": [],
   "source": [
    "def visualize_model():\n",
    "  device = torch.device('cuda' if torch.cuda.is_available() else 'cpu')\n",
    "  model = DeepNN().to(device)\n",
    "  torchsummary.summary(model, (1, 28, 28))"
   ]
  },
  {
   "cell_type": "code",
   "execution_count": 17,
   "metadata": {},
   "outputs": [
    {
     "name": "stdout",
     "output_type": "stream",
     "text": [
      "----------------------------------------------------------------\n",
      "        Layer (type)               Output Shape         Param #\n",
      "================================================================\n",
      "            Conv2d-1           [-1, 32, 28, 28]             320\n",
      "              ReLU-2           [-1, 32, 28, 28]               0\n",
      "         MaxPool2d-3           [-1, 32, 14, 14]               0\n",
      "            Conv2d-4           [-1, 64, 14, 14]          18,496\n",
      "              ReLU-5           [-1, 64, 14, 14]               0\n",
      "         MaxPool2d-6             [-1, 64, 7, 7]               0\n",
      "            Linear-7                  [-1, 128]         401,536\n",
      "              ReLU-8                  [-1, 128]               0\n",
      "            Linear-9                   [-1, 10]           1,290\n",
      "================================================================\n",
      "Total params: 421,642\n",
      "Trainable params: 421,642\n",
      "Non-trainable params: 0\n",
      "----------------------------------------------------------------\n",
      "Input size (MB): 0.00\n",
      "Forward/backward pass size (MB): 0.65\n",
      "Params size (MB): 1.61\n",
      "Estimated Total Size (MB): 2.26\n",
      "----------------------------------------------------------------\n"
     ]
    }
   ],
   "source": [
    "visualize_model()"
   ]
  },
  {
   "cell_type": "code",
   "execution_count": 18,
   "metadata": {},
   "outputs": [],
   "source": [
    "def get_data_loader(batch_size=32, train=True):\n",
    "  transform = transforms.Compose([\n",
    "      transforms.ToTensor(),\n",
    "      transforms.Normalize((0.5,), (0.5,))\n",
    "  ])\n",
    "  dataset = datasets.MNIST(root='/tmp/data', train=train, download=True, transform=transform)\n",
    "  data_loader = DataLoader(dataset, batch_size=batch_size, shuffle=True)\n",
    "  return data_loader"
   ]
  },
  {
   "cell_type": "code",
   "execution_count": 19,
   "metadata": {},
   "outputs": [],
   "source": [
    "def train_model(epochs=5):\n",
    "  device = torch.device('cuda' if torch.cuda.is_available() else 'cpu')\n",
    "  model = DeepNN().to(device)\n",
    "  train_loader = get_data_loader()\n",
    "  criterion = nn.CrossEntropyLoss()\n",
    "  optimizer = torch.optim.Adam(model.parameters(), lr=0.001)\n",
    "  scaler = GradScaler()\n",
    "\n",
    "  for e in range(epochs):\n",
    "    model.train()\n",
    "    for images, labels in train_loader:\n",
    "      images, labels = images.to(device, non_blocking=True), labels.to(device, non_blocking=True)\n",
    "      optimizer.zero_grad()\n",
    "      with autocast(device_type='cuda'):\n",
    "        outputs = model(images)\n",
    "        loss = criterion(outputs, labels)\n",
    "      scaler.scale(loss).backward()\n",
    "      scaler.step(optimizer)\n",
    "      scaler.update()\n",
    "    print(f'Epoch: {e+1}, Loss: {loss.item()}')\n",
    "  torch.save(model.state_dict(), '/tmp/model.pth')\n",
    "  print('Model saved')"
   ]
  },
  {
   "cell_type": "code",
   "execution_count": 20,
   "metadata": {},
   "outputs": [
    {
     "name": "stderr",
     "output_type": "stream",
     "text": [
      "/Users/alexvo/anaconda3/lib/python3.11/site-packages/torch/amp/grad_scaler.py:132: UserWarning: torch.cuda.amp.GradScaler is enabled, but CUDA is not available.  Disabling.\n",
      "  warnings.warn(\n",
      "/Users/alexvo/anaconda3/lib/python3.11/site-packages/torch/amp/autocast_mode.py:266: UserWarning: User provided device_type of 'cuda', but CUDA is not available. Disabling\n",
      "  warnings.warn(\n"
     ]
    },
    {
     "name": "stdout",
     "output_type": "stream",
     "text": [
      "Epoch: 1, Loss: 0.14123892784118652\n",
      "Epoch: 2, Loss: 0.0035196207463741302\n",
      "Epoch: 3, Loss: 0.03403265029191971\n",
      "Epoch: 4, Loss: 0.0032755981665104628\n",
      "Epoch: 5, Loss: 0.0007500641513615847\n",
      "Epoch: 6, Loss: 0.0010460790945217013\n",
      "Epoch: 7, Loss: 0.00201306096278131\n",
      "Epoch: 8, Loss: 4.827806151297409e-06\n",
      "Epoch: 9, Loss: 8.964771404862404e-05\n",
      "Epoch: 10, Loss: 0.000175406108610332\n",
      "Model saved\n"
     ]
    }
   ],
   "source": [
    "train_model(10)"
   ]
  },
  {
   "cell_type": "code",
   "execution_count": 21,
   "metadata": {},
   "outputs": [],
   "source": [
    "def test_model():\n",
    "    device = torch.device('cuda' if torch.cuda.is_available() else 'cpu')\n",
    "    model = DeepNN().to(device)\n",
    "    model.load_state_dict(torch.load('/tmp/model.pth', map_location=device))  # <-- fix path\n",
    "    model.eval()\n",
    "\n",
    "    test_loader = get_data_loader(train=False)\n",
    "    correct = 0\n",
    "    total = 0\n",
    "    with torch.no_grad():\n",
    "        for images, labels in test_loader:\n",
    "            images, labels = images.to(device, non_blocking=True), labels.to(device, non_blocking=True)\n",
    "            outputs = model(images)\n",
    "            _, predicted = torch.max(outputs.data, 1)\n",
    "            total += labels.size(0)\n",
    "            correct += (predicted == labels).sum().item()\n",
    "    print(f'Accuracy: {100 * correct / total:.2f}%')"
   ]
  },
  {
   "cell_type": "code",
   "execution_count": 22,
   "metadata": {},
   "outputs": [
    {
     "name": "stdout",
     "output_type": "stream",
     "text": [
      "Accuracy: 98.98%\n"
     ]
    }
   ],
   "source": [
    "test_model()"
   ]
  },
  {
   "cell_type": "code",
   "execution_count": 23,
   "metadata": {},
   "outputs": [],
   "source": [
    "def visualize_predictions():\n",
    "    device = torch.device('cuda' if torch.cuda.is_available() else 'cpu')\n",
    "    model = DeepNN().to(device)\n",
    "    model.load_state_dict(torch.load('/tmp/model.pth', map_location=device))  # adjust path if needed\n",
    "    model.eval()\n",
    "\n",
    "    test_loader = get_data_loader(train=False)\n",
    "\n",
    "    images, labels = next(iter(test_loader))\n",
    "    images, labels = images.to(device, non_blocking=True), labels.to(device, non_blocking=True)\n",
    "    outputs = model(images)\n",
    "    _, predicted = torch.max(outputs.data, 1)\n",
    "\n",
    "    images = images.cpu().numpy()\n",
    "\n",
    "    fig, axes = plt.subplots(nrows=4, ncols=8, figsize=(12, 6))\n",
    "    axes = axes.flatten()\n",
    "\n",
    "    for i in range(32):  # 4x8=32 images\n",
    "        img = images[i][0]  # get the first (and only) channel for grayscale\n",
    "        axes[i].imshow(img, cmap='gray')\n",
    "        axes[i].set_title(f'Pred: {predicted[i].item()}')\n",
    "        axes[i].axis('off')\n",
    "\n",
    "    plt.tight_layout()\n",
    "    plt.show()"
   ]
  },
  {
   "cell_type": "code",
   "execution_count": 24,
   "metadata": {},
   "outputs": [
    {
     "data": {
      "image/png": "[encoded data removed]",
      "text/plain": [
       "<Figure size 1200x600 with 32 Axes>"
      ]
     },
     "metadata": {},
     "output_type": "display_data"
    }
   ],
   "source": [
    "visualize_predictions()"
   ]
  },
  {
   "cell_type": "code",
   "execution_count": null,
   "metadata": {},
   "outputs": [],
   "source": []
  }
 ],
 "metadata": {
  "kernelspec": {
   "display_name": "base",
   "language": "python",
   "name": "python3"
  },
  "language_info": {
   "codemirror_mode": {
    "name": "ipython",
    "version": 3
   },
   "file_extension": ".py",
   "mimetype": "text/x-python",
   "name": "python",
   "nbconvert_exporter": "python",
   "pygments_lexer": "ipython3",
   "version": "3.11.4"
  }
 },
 "nbformat": 4,
 "nbformat_minor": 2
}
